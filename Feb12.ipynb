{
  "nbformat": 4,
  "nbformat_minor": 0,
  "metadata": {
    "colab": {
      "provenance": [],
      "authorship_tag": "ABX9TyPjS/9/Mw2hwIqIxVVTYvL3",
      "include_colab_link": true
    },
    "kernelspec": {
      "name": "python3",
      "display_name": "Python 3"
    },
    "language_info": {
      "name": "python"
    }
  },
  "cells": [
    {
      "cell_type": "markdown",
      "metadata": {
        "id": "view-in-github",
        "colab_type": "text"
      },
      "source": [
        "<a href=\"https://colab.research.google.com/github/245ajk/BTE-320-Repository/blob/main/Feb12.ipynb\" target=\"_parent\"><img src=\"https://colab.research.google.com/assets/colab-badge.svg\" alt=\"Open In Colab\"/></a>"
      ]
    },
    {
      "cell_type": "code",
      "execution_count": null,
      "metadata": {
        "id": "1rhVsojIokEZ"
      },
      "outputs": [],
      "source": []
    },
    {
      "cell_type": "markdown",
      "source": [
        "for var in sequence:\n",
        "> Indented block\n",
        "statement(s)\n",
        "\n",
        " if condition\n",
        "\n",
        "\n",
        "  if condition\n",
        "\n",
        "   break\n",
        "\n",
        "    statement"
      ],
      "metadata": {
        "id": "iYYtKOkXo1Dg"
      }
    },
    {
      "cell_type": "markdown",
      "source": [
        "Assignment:\n",
        "Design a calculator\n",
        "- The calculator, once starts, cannot stop unless the user chooses to (hint: infinite loop)\n",
        "- Implement all numerical operators that we discussed:\n",
        "  - ' + to add\n",
        "  - ' - to subtract\n",
        "  - ' *\n",
        "  - /\n",
        "  - //\n",
        "  - %\n",
        "  - **\n",
        "\n",
        "- The user has to provide the numbers and the desired operator from the keyboard; then, the calculator will dislpay the result\n",
        "- Numbers: int or float, operator: str\n",
        "- Calc stops if the user enters the word \"break\" instead of an operator; it skips an iteration if the user gives an operator that is not numerical ( e.g., a boolean operator)"
      ],
      "metadata": {
        "id": "8spyFw2HpXqL"
      }
    },
    {
      "cell_type": "code",
      "source": [
        "num_x = float(input())\n",
        "operator = input(\"Operator\")\n",
        "num_y = float(input())\n"
      ],
      "metadata": {
        "id": "_llU46_3q_TF"
      },
      "execution_count": null,
      "outputs": []
    },
    {
      "cell_type": "code",
      "source": [
        "while True:\n",
        "  num_1 = float(input(\"First Number\"))\n",
        "  operator = input(\"Operators: + , -, *, /, //, %, **\")\n",
        "  if operator == \"break\":\n",
        "     break\n",
        "  num_2 = float(input(\"Second Number\"))\n",
        "\n",
        "  if operator == \"+\":\n",
        "    result = num_1 + num_2\n",
        "  elif operator == \"-\":\n",
        "    result = num_1 - num_2\n",
        "  elif operator == \"*\":\n",
        "    result = num_1 * num_2\n",
        "  elif operator == \"/\":\n",
        "    result = num_1 / num_2\n",
        "  elif operator == \"//\":\n",
        "    result = num_1 // num_2\n",
        "  elif operator == \"%\":\n",
        "    result = num_1 % num_2\n",
        "  elif operator == \"**\":\n",
        "    result = num_1 ** num_2\n",
        "  print(result)\n",
        ""
      ],
      "metadata": {
        "colab": {
          "base_uri": "https://localhost:8080/",
          "height": 143
        },
        "id": "8lwsrs_rr8G_",
        "outputId": "a949a4db-8a48-4053-dcbe-f77a5d7483c9"
      },
      "execution_count": 24,
      "outputs": [
        {
          "output_type": "error",
          "ename": "SyntaxError",
          "evalue": "cannot assign to function call here. Maybe you meant '==' instead of '='? (<ipython-input-24-f49260b1ad68>, line 17)",
          "traceback": [
            "\u001b[0;36m  File \u001b[0;32m\"<ipython-input-24-f49260b1ad68>\"\u001b[0;36m, line \u001b[0;32m17\u001b[0m\n\u001b[0;31m    float(result) = num_1 // num_2\u001b[0m\n\u001b[0m    ^\u001b[0m\n\u001b[0;31mSyntaxError\u001b[0m\u001b[0;31m:\u001b[0m cannot assign to function call here. Maybe you meant '==' instead of '='?\n"
          ]
        }
      ]
    },
    {
      "cell_type": "markdown",
      "source": [],
      "metadata": {
        "id": "pJtVmzMRr7gd"
      }
    }
  ]
}