{
  "nbformat": 4,
  "nbformat_minor": 0,
  "metadata": {
    "colab": {
      "provenance": [],
      "authorship_tag": "ABX9TyPCu9x1F2hph+cFxNsYJT6J",
      "include_colab_link": true
    },
    "kernelspec": {
      "name": "python3",
      "display_name": "Python 3"
    },
    "language_info": {
      "name": "python"
    }
  },
  "cells": [
    {
      "cell_type": "markdown",
      "metadata": {
        "id": "view-in-github",
        "colab_type": "text"
      },
      "source": [
        "<a href=\"https://colab.research.google.com/github/245ajk/BTE-320-Repository/blob/main/colab_examples.ipynb\" target=\"_parent\"><img src=\"https://colab.research.google.com/assets/colab-badge.svg\" alt=\"Open In Colab\"/></a>"
      ]
    },
    {
      "cell_type": "markdown",
      "source": [
        "#Rock, Papers, Scissors"
      ],
      "metadata": {
        "id": "c4nSU7XEnKzw"
      }
    },
    {
      "cell_type": "code",
      "execution_count": null,
      "metadata": {
        "id": "rBuJZjQGnGWu"
      },
      "outputs": [],
      "source": [
        "[ ]\n",
        "import random\n",
        "[ ]\n",
        "pc_choice = random.choice(['Rock','Paper', 'Scissors'])\n",
        "print('Select Rock, Paper, or Scissors')\n",
        "user_choice = input()\n",
        "Select Rock, Paper, or Scissors\n",
        "Paper\n",
        "[ ]\n",
        "if user_choice ==  pc_choice:\n",
        "  result = 'Tie'\n",
        "elif user_choice == 'Rock' and pc_choice == 'Scissors' or user_choice == 'Paper' and pc_choice == 'Rock' or user_choice == 'Scissors' and pc_choice == 'Paper':\n",
        "  result = 'Win'\n",
        "else:\n",
        "  result = 'Loss'\n",
        "\n",
        "print('Your', user_choice, \"vs Computer's\", pc_choice)\n",
        "print(result)\n",
        "\n",
        "if result == 'Tie':\n",
        "  pc_choice = random.choice(['Rock','Paper', 'Scissors'])\n",
        "  print('Select Rock, Paper, or Scissors')\n",
        "  user_choice = input()\n",
        "Your Rock vs Computer's Scissors\n",
        "Win\n",
        "[ ]\n",
        "while user_choice == pc_choice:\n",
        "  result == 'Tie'\n",
        "  pc_choice = random.choice(['Rock','Paper', 'Scissors'])\n",
        "  print('Your', user_choice, \"vs Computer's\", pc_choice)\n",
        "  print('Tie: Select Rock, Paper, or Scissors')\n",
        "  user_choice = input()\n",
        "\n",
        "if user_choice == 'Rock' and pc_choice == 'Scissors' or user_choice == 'Paper' and pc_choice == 'Rock' or user_choice == 'Scissors' and pc_choice == 'Paper':\n",
        "  result = 'Win'\n",
        "else:\n",
        "\n",
        "Your Paper vs Computer's Paper\n",
        "Tie: Select Rock, Paper, or Scissors\n",
        "Rock\n",
        "Your Rock vs Computer's Paper\n",
        "Loss\n",
        "[ ]"
      ]
    },
    {
      "cell_type": "markdown",
      "source": [
        "#Parking Garage"
      ],
      "metadata": {
        "id": "fltiDIonnZg3"
      }
    },
    {
      "cell_type": "code",
      "source": [
        "for hour in range(1,9):\n",
        "  price = (hour * 2.5)+5\n",
        "  if price < 10:\n",
        "    price = 10\n",
        "  if price > 20:\n",
        "    price = 20\n",
        "  print ('Hours:', hour, '- $', price)"
      ],
      "metadata": {
        "id": "kAsEwxOsnnYr"
      },
      "execution_count": null,
      "outputs": []
    },
    {
      "cell_type": "markdown",
      "source": [
        "#Movie Theater Advertisement Dollars Spent"
      ],
      "metadata": {
        "id": "M3vSioW0nsNb"
      }
    },
    {
      "cell_type": "code",
      "source": [
        " for i in range(0,201, 25):\n",
        "  print(i, 10*(2*round(i**.5)))"
      ],
      "metadata": {
        "id": "m8iiRz4lnwGW"
      },
      "execution_count": null,
      "outputs": []
    },
    {
      "cell_type": "markdown",
      "source": [
        "#Leap Year"
      ],
      "metadata": {
        "id": "6JbxQXIi_gPy"
      }
    },
    {
      "cell_type": "code",
      "source": [
        "year = int(input(\"Enter a year: \"))\n",
        "\n",
        "if (year % 4 == 0 and year % 100 != 0) or (year % 400 == 0):\n",
        "    print(f\"{year} is a leap year!\")\n",
        "else:\n",
        "    print(f\"{year} is not a leap year.\")"
      ],
      "metadata": {
        "id": "hm7Oppxs_iL_",
        "outputId": "5c1f2090-a5ee-4bc6-8051-f6fb11e25862",
        "colab": {
          "base_uri": "https://localhost:8080/"
        }
      },
      "execution_count": null,
      "outputs": [
        {
          "output_type": "stream",
          "name": "stdout",
          "text": [
            "Enter a year: 2020\n",
            "2020 is a leap year!\n"
          ]
        }
      ]
    },
    {
      "cell_type": "markdown",
      "source": [
        "#Calculator - Feb 12"
      ],
      "metadata": {
        "id": "fGkgH2VWv6B1"
      }
    },
    {
      "cell_type": "code",
      "source": [
        "while True:\n",
        "  num1 = float(input('Enter first number: '))\n",
        "  num2 = float(input('Enter second number: '))\n",
        "  operator = input('Enter the operator:')\n",
        "\n",
        "\n",
        "  if operator == 'break':\n",
        "    break\n",
        "\n",
        "  if operator == \"+\":\n",
        "    answer = num1 + num2\n",
        "# bc operators are all mutually exclusive, they can all be in one if statement and use elif\n",
        "  elif operator == \"-\":\n",
        "    answer = num1 - num2\n",
        "  elif operator == \"*\":\n",
        "    answer = num1 * num2\n",
        "  elif operator == \"/\":\n",
        "    answer = num1 / num2\n",
        "  elif operator == \"//\":\n",
        "    answer = num1 // num2\n",
        "  elif operator == \"**\":\n",
        "    answer = num1 ** num2\n",
        "  elif operator == \"%\":\n",
        "    answer = num1 % num2\n",
        "  else:\n",
        "    print('Invalid operator:', operator)\n",
        "    continue\n",
        "  print(\"Calculation:\", answer)"
      ],
      "metadata": {
        "id": "bCzxE6Ouv8BJ"
      },
      "execution_count": null,
      "outputs": []
    },
    {
      "cell_type": "markdown",
      "source": [
        "#Calendar - Feb 21"
      ],
      "metadata": {
        "id": "bJlF8jKWS1CF"
      }
    },
    {
      "cell_type": "code",
      "source": [
        "d = input(\"Enter Date: MM/DD/YYYY   \")\n",
        "m = ['Jan', 'Feb', 'Mar','Apr','May','Jun','Jul','Aug', 'Sep','Oct','Nov','Dec']\n",
        "M = m[int(d[0:2])-1]\n",
        "D = d[3:5]\n",
        "Y = d[-4:]\n",
        "print(\"Month: \",M)\n",
        "print(\"Day: \",D)\n",
        "print(\"Year: \", Y)\n",
        "print(\"Date: \", M, D,\",\", Y)"
      ],
      "metadata": {
        "colab": {
          "base_uri": "https://localhost:8080/"
        },
        "id": "z4WextkuS5FC",
        "outputId": "15f8d9ee-db31-4705-ddb1-1d4f625631d6"
      },
      "execution_count": null,
      "outputs": [
        {
          "output_type": "stream",
          "name": "stdout",
          "text": [
            "Enter Date: MM/DD/YYYY   02/24/2024\n",
            "Month:  Feb\n",
            "Day:  24\n",
            "Year:  2024\n",
            "Date:  Feb 24 , 2024\n"
          ]
        }
      ]
    },
    {
      "cell_type": "markdown",
      "source": [
        "#Characters in Strings - Feb 23"
      ],
      "metadata": {
        "id": "FO_nlm8TYQFS"
      }
    },
    {
      "cell_type": "code",
      "source": [
        "s1 = 'abcdefg'\n",
        "s2 = 'abdght'\n",
        "\n",
        "for char in s1:\n",
        "    if char in s2:\n",
        "        print(char, 'appears in both strings.')\n",
        "\n",
        "s1 = 'abcdefg'\n",
        "s2 ='abdght'\n",
        "\n",
        "for i in range(len(s1)):\n",
        "  if s1[i] in s2:\n",
        "    print(i)"
      ],
      "metadata": {
        "id": "hflvsfTWTi0E",
        "colab": {
          "base_uri": "https://localhost:8080/"
        },
        "outputId": "1a6fc86d-4a57-47a6-d1e5-81c0d52471c8"
      },
      "execution_count": 3,
      "outputs": [
        {
          "output_type": "stream",
          "name": "stdout",
          "text": [
            "a appears in both strings.\n",
            "b appears in both strings.\n",
            "d appears in both strings.\n",
            "g appears in both strings.\n",
            "0\n",
            "1\n",
            "3\n",
            "6\n"
          ]
        }
      ]
    },
    {
      "cell_type": "code",
      "source": [],
      "metadata": {
        "id": "lIAhOHLNYrVf"
      },
      "execution_count": null,
      "outputs": []
    }
  ]
}