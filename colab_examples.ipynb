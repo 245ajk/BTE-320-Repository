{
  "nbformat": 4,
  "nbformat_minor": 0,
  "metadata": {
    "colab": {
      "provenance": [],
      "authorship_tag": "ABX9TyMeTb0CnGXsipEpTspIlRX6",
      "include_colab_link": true
    },
    "kernelspec": {
      "name": "python3",
      "display_name": "Python 3"
    },
    "language_info": {
      "name": "python"
    }
  },
  "cells": [
    {
      "cell_type": "markdown",
      "metadata": {
        "id": "view-in-github",
        "colab_type": "text"
      },
      "source": [
        "<a href=\"https://colab.research.google.com/github/245ajk/BTE-320-Repository/blob/main/colab_examples.ipynb\" target=\"_parent\"><img src=\"https://colab.research.google.com/assets/colab-badge.svg\" alt=\"Open In Colab\"/></a>"
      ]
    },
    {
      "cell_type": "markdown",
      "source": [
        "#Rock, Papers, Scissors"
      ],
      "metadata": {
        "id": "c4nSU7XEnKzw"
      }
    },
    {
      "cell_type": "code",
      "execution_count": null,
      "metadata": {
        "id": "rBuJZjQGnGWu"
      },
      "outputs": [],
      "source": [
        "[ ]\n",
        "import random\n",
        "[ ]\n",
        "pc_choice = random.choice(['Rock','Paper', 'Scissors'])\n",
        "print('Select Rock, Paper, or Scissors')\n",
        "user_choice = input()\n",
        "Select Rock, Paper, or Scissors\n",
        "Paper\n",
        "[ ]\n",
        "if user_choice ==  pc_choice:\n",
        "  result = 'Tie'\n",
        "elif user_choice == 'Rock' and pc_choice == 'Scissors' or user_choice == 'Paper' and pc_choice == 'Rock' or user_choice == 'Scissors' and pc_choice == 'Paper':\n",
        "  result = 'Win'\n",
        "else:\n",
        "  result = 'Loss'\n",
        "\n",
        "print('Your', user_choice, \"vs Computer's\", pc_choice)\n",
        "print(result)\n",
        "\n",
        "if result == 'Tie':\n",
        "  pc_choice = random.choice(['Rock','Paper', 'Scissors'])\n",
        "  print('Select Rock, Paper, or Scissors')\n",
        "  user_choice = input()\n",
        "Your Rock vs Computer's Scissors\n",
        "Win\n",
        "[ ]\n",
        "while user_choice == pc_choice:\n",
        "  result == 'Tie'\n",
        "  pc_choice = random.choice(['Rock','Paper', 'Scissors'])\n",
        "  print('Your', user_choice, \"vs Computer's\", pc_choice)\n",
        "  print('Tie: Select Rock, Paper, or Scissors')\n",
        "  user_choice = input()\n",
        "\n",
        "if user_choice == 'Rock' and pc_choice == 'Scissors' or user_choice == 'Paper' and pc_choice == 'Rock' or user_choice == 'Scissors' and pc_choice == 'Paper':\n",
        "  result = 'Win'\n",
        "else:\n",
        "\n",
        "Your Paper vs Computer's Paper\n",
        "Tie: Select Rock, Paper, or Scissors\n",
        "Rock\n",
        "Your Rock vs Computer's Paper\n",
        "Loss\n",
        "[ ]"
      ]
    },
    {
      "cell_type": "markdown",
      "source": [
        "#Parking Garage"
      ],
      "metadata": {
        "id": "fltiDIonnZg3"
      }
    },
    {
      "cell_type": "code",
      "source": [
        "for hour in range(1,9):\n",
        "  price = (hour * 2.5)+5\n",
        "  if price < 10:\n",
        "    price = 10\n",
        "  if price > 20:\n",
        "    price = 20\n",
        "  print ('Hours:', hour, '- $', price)"
      ],
      "metadata": {
        "id": "kAsEwxOsnnYr"
      },
      "execution_count": null,
      "outputs": []
    },
    {
      "cell_type": "markdown",
      "source": [
        "#Movie Theater Advertisement Dollars Spent"
      ],
      "metadata": {
        "id": "M3vSioW0nsNb"
      }
    },
    {
      "cell_type": "code",
      "source": [
        " for i in range(0,201, 25):\n",
        "  print(i, 10*(2*round(i**.5)))"
      ],
      "metadata": {
        "id": "m8iiRz4lnwGW"
      },
      "execution_count": null,
      "outputs": []
    },
    {
      "cell_type": "markdown",
      "source": [
        "#Calculator - Feb 12"
      ],
      "metadata": {
        "id": "fGkgH2VWv6B1"
      }
    },
    {
      "cell_type": "code",
      "source": [
        "while True:\n",
        "  num1 = float(input('Enter first number: '))\n",
        "  num2 = float(input('Enter second number: '))\n",
        "  operator = input('Enter the operator:')\n",
        "\n",
        "  # break - need to compare the value that the operator points to with the break\n",
        "  if operator == 'break': # operator = string so comparisons must be strings too ( 'comparison')\n",
        "    break\n",
        "\n",
        "  if operator == \"+\":\n",
        "    answer = num1 + num2\n",
        "# bc operators are all mutually exclusive, they can all be in one if statement and use elif\n",
        "  elif operator == \"-\":\n",
        "    answer = num1 - num2\n",
        "  elif operator == \"*\":\n",
        "    answer = num1 * num2\n",
        "  elif operator == \"/\":\n",
        "    answer = num1 / num2\n",
        "  elif operator == \"//\":\n",
        "    answer = num1 // num2\n",
        "  elif operator == \"**\":\n",
        "    answer = num1 ** num2\n",
        "  elif operator == \"%\":\n",
        "    answer = num1 % num2\n",
        "  else:\n",
        "    print('Invalid operator:', operator)\n",
        "    continue  #ask for new numbers and new operator\n",
        "  print(\"Calculation:\", answer)"
      ],
      "metadata": {
        "id": "bCzxE6Ouv8BJ"
      },
      "execution_count": null,
      "outputs": []
    }
  ]
}