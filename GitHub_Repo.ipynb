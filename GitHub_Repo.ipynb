{
  "nbformat": 4,
  "nbformat_minor": 0,
  "metadata": {
    "colab": {
      "provenance": [],
      "collapsed_sections": [
        "c4nSU7XEnKzw",
        "fltiDIonnZg3",
        "M3vSioW0nsNb",
        "6JbxQXIi_gPy",
        "fGkgH2VWv6B1",
        "bJlF8jKWS1CF",
        "FO_nlm8TYQFS",
        "TLgIc52IRPwa",
        "HKxDXjz8yhdk",
        "985pe9cnHyv1",
        "z-jHAnVfJ62Z",
        "u6onOEx1Y9aa",
        "w9gDCVppZa-g",
        "iS3PBNMUZsvY"
      ],
      "authorship_tag": "ABX9TyO1S06p5v1yu2rGS43hn+9x",
      "include_colab_link": true
    },
    "kernelspec": {
      "name": "python3",
      "display_name": "Python 3"
    },
    "language_info": {
      "name": "python"
    }
  },
  "cells": [
    {
      "cell_type": "markdown",
      "metadata": {
        "id": "view-in-github",
        "colab_type": "text"
      },
      "source": [
        "<a href=\"https://colab.research.google.com/github/245ajk/BTE-320-Repository/blob/main/GitHub_Repo.ipynb\" target=\"_parent\"><img src=\"https://colab.research.google.com/assets/colab-badge.svg\" alt=\"Open In Colab\"/></a>"
      ]
    },
    {
      "cell_type": "markdown",
      "source": [
        "#Rock, Papers, Scissors"
      ],
      "metadata": {
        "id": "c4nSU7XEnKzw"
      }
    },
    {
      "cell_type": "code",
      "execution_count": null,
      "metadata": {
        "id": "rBuJZjQGnGWu"
      },
      "outputs": [],
      "source": [
        "[ ]\n",
        "import random\n",
        "[ ]\n",
        "pc_choice = random.choice(['Rock','Paper', 'Scissors'])\n",
        "print('Select Rock, Paper, or Scissors')\n",
        "user_choice = input()\n",
        "Select Rock, Paper, or Scissors\n",
        "Paper\n",
        "[ ]\n",
        "if user_choice ==  pc_choice:\n",
        "  result = 'Tie'\n",
        "elif user_choice == 'Rock' and pc_choice == 'Scissors' or user_choice == 'Paper' and pc_choice == 'Rock' or user_choice == 'Scissors' and pc_choice == 'Paper':\n",
        "  result = 'Win'\n",
        "else:\n",
        "  result = 'Loss'\n",
        "\n",
        "print('Your', user_choice, \"vs Computer's\", pc_choice)\n",
        "print(result)\n",
        "\n",
        "if result == 'Tie':\n",
        "  pc_choice = random.choice(['Rock','Paper', 'Scissors'])\n",
        "  print('Select Rock, Paper, or Scissors')\n",
        "  user_choice = input()\n",
        "Your Rock vs Computer's Scissors\n",
        "Win\n",
        "[ ]\n",
        "while user_choice == pc_choice:\n",
        "  result == 'Tie'\n",
        "  pc_choice = random.choice(['Rock','Paper', 'Scissors'])\n",
        "  print('Your', user_choice, \"vs Computer's\", pc_choice)\n",
        "  print('Tie: Select Rock, Paper, or Scissors')\n",
        "  user_choice = input()\n",
        "\n",
        "if user_choice == 'Rock' and pc_choice == 'Scissors' or user_choice == 'Paper' and pc_choice == 'Rock' or user_choice == 'Scissors' and pc_choice == 'Paper':\n",
        "  result = 'Win'\n",
        "else:\n",
        "\n",
        "Your Paper vs Computer's Paper\n",
        "Tie: Select Rock, Paper, or Scissors\n",
        "Rock\n",
        "Your Rock vs Computer's Paper\n",
        "Loss\n",
        "[ ]"
      ]
    },
    {
      "cell_type": "markdown",
      "source": [
        "#Parking Garage"
      ],
      "metadata": {
        "id": "fltiDIonnZg3"
      }
    },
    {
      "cell_type": "code",
      "source": [
        "for hour in range(1,9):\n",
        "  price = (hour * 2.5)+5\n",
        "  if price < 10:\n",
        "    price = 10\n",
        "  if price > 20:\n",
        "    price = 20\n",
        "  print ('Hours:', hour, '- $', price)"
      ],
      "metadata": {
        "id": "kAsEwxOsnnYr"
      },
      "execution_count": null,
      "outputs": []
    },
    {
      "cell_type": "markdown",
      "source": [
        "#Movie Theater Advertisement Dollars Spent"
      ],
      "metadata": {
        "id": "M3vSioW0nsNb"
      }
    },
    {
      "cell_type": "code",
      "source": [
        " for i in range(0,201, 25):\n",
        "  print(i, 10*(2*round(i**.5)))"
      ],
      "metadata": {
        "id": "m8iiRz4lnwGW"
      },
      "execution_count": null,
      "outputs": []
    },
    {
      "cell_type": "markdown",
      "source": [
        "#Leap Year"
      ],
      "metadata": {
        "id": "6JbxQXIi_gPy"
      }
    },
    {
      "cell_type": "code",
      "source": [
        "year = int(input(\"Enter a year: \"))\n",
        "\n",
        "if (year % 4 == 0 and year % 100 != 0) or (year % 400 == 0):\n",
        "    print(f\"{year} is a leap year!\")\n",
        "else:\n",
        "    print(f\"{year} is not a leap year.\")"
      ],
      "metadata": {
        "id": "hm7Oppxs_iL_",
        "outputId": "c85fa2ba-c6c1-4aa6-d6fc-68bfa488047e",
        "colab": {
          "base_uri": "https://localhost:8080/"
        }
      },
      "execution_count": null,
      "outputs": [
        {
          "output_type": "stream",
          "name": "stdout",
          "text": [
            "Enter a year: 1900\n",
            "1900 is not a leap year.\n"
          ]
        }
      ]
    },
    {
      "cell_type": "markdown",
      "source": [
        "#Calculator - Feb 12"
      ],
      "metadata": {
        "id": "fGkgH2VWv6B1"
      }
    },
    {
      "cell_type": "code",
      "source": [
        "while True:\n",
        "  num1 = float(input('Enter first number: '))\n",
        "  num2 = float(input('Enter second number: '))\n",
        "  operator = input('Enter the operator:')\n",
        "\n",
        "\n",
        "  if operator == 'break':\n",
        "    break\n",
        "\n",
        "  if operator == \"+\":\n",
        "    answer = num1 + num2\n",
        "# bc operators are all mutually exclusive, they can all be in one if statement and use elif\n",
        "  elif operator == \"-\":\n",
        "    answer = num1 - num2\n",
        "  elif operator == \"*\":\n",
        "    answer = num1 * num2\n",
        "  elif operator == \"/\":\n",
        "    answer = num1 / num2\n",
        "  elif operator == \"//\":\n",
        "    answer = num1 // num2\n",
        "  elif operator == \"**\":\n",
        "    answer = num1 ** num2\n",
        "  elif operator == \"%\":\n",
        "    answer = num1 % num2\n",
        "  else:\n",
        "    print('Invalid operator:', operator)\n",
        "    continue\n",
        "  print(\"Calculation:\", answer)"
      ],
      "metadata": {
        "id": "bCzxE6Ouv8BJ"
      },
      "execution_count": null,
      "outputs": []
    },
    {
      "cell_type": "markdown",
      "source": [
        "#Calendar - Feb 21"
      ],
      "metadata": {
        "id": "bJlF8jKWS1CF"
      }
    },
    {
      "cell_type": "code",
      "source": [
        "date = input(\"Enter Date: MM/DD/YYYY   \")\n",
        "m = ['Jan', 'Feb', 'Mar','Apr','May','Jun','Jul','Aug', 'Sep','Oct','Nov','Dec']\n",
        "M = m[int(d[0:2])-1]\n",
        "D = d[3:5]\n",
        "Y = d[-4:]\n",
        "print(\"Month: \",M)\n",
        "print(\"Day: \",D)\n",
        "print(\"Year: \", Y)\n",
        "print(\"Date: \", M, D,\",\", Y)"
      ],
      "metadata": {
        "colab": {
          "base_uri": "https://localhost:8080/"
        },
        "id": "z4WextkuS5FC",
        "outputId": "15f8d9ee-db31-4705-ddb1-1d4f625631d6"
      },
      "execution_count": null,
      "outputs": [
        {
          "output_type": "stream",
          "name": "stdout",
          "text": [
            "Enter Date: MM/DD/YYYY   02/24/2024\n",
            "Month:  Feb\n",
            "Day:  24\n",
            "Year:  2024\n",
            "Date:  Feb 24 , 2024\n"
          ]
        }
      ]
    },
    {
      "cell_type": "markdown",
      "source": [
        "*** or:"
      ],
      "metadata": {
        "id": "TwGDccnUjwIL"
      }
    },
    {
      "cell_type": "code",
      "source": [
        "date = input(\"Year: MM/DD/YYYY \")\n",
        "\n",
        "M = {\n",
        "    '01': 'Jan',\n",
        "    '02': 'Feb',\n",
        "    '03': 'Mar',\n",
        "    '04': 'Apr',\n",
        "    '05': 'May',\n",
        "    '06': 'Jun',\n",
        "    '07': 'Jul',\n",
        "    '08': 'Aug',\n",
        "    '09': 'Sep',\n",
        "    '10': 'Oct',\n",
        "    '11': 'Nov',\n",
        "    '12': 'Dec'\n",
        "}\n",
        "\n",
        "m = M[date[:2]]\n",
        "d = int(date[3:5])\n",
        "y = date[6:10]\n",
        "\n",
        "if d > 31 or d <= 0:\n",
        "    print('Error: Day out of range for month')\n",
        "elif d > 30:\n",
        "    if m in ['Apr', 'Jun', 'Sep', 'Nov']:\n",
        "        print(f'Error: {m} only has 30 days')\n",
        "    else:\n",
        "        print('Month:', m)\n",
        "        print('Day:', d)\n",
        "        print('Year:', y)\n",
        "elif d == 29:\n",
        "    if m == 'Feb':\n",
        "        if (int(y) % 4 == 0 and int(y) % 100 != 0) or (int(y) % 400 == 0):\n",
        "            print('Month:', m)\n",
        "            print('Day:', d)\n",
        "            print('Year:', y)\n",
        "        else:\n",
        "            print(f'Error: {y} is not a leap year')\n",
        "    else:\n",
        "        print('Month:', m)\n",
        "        print('Day:', d)\n",
        "        print('Year:', y)\n",
        "else:\n",
        "    print('Month:', m)\n",
        "    print('Day:', d)\n",
        "    print('Year:', y)"
      ],
      "metadata": {
        "id": "IgeVtmO9jvqM"
      },
      "execution_count": null,
      "outputs": []
    },
    {
      "cell_type": "markdown",
      "source": [
        "#Characters in Strings - Feb 23"
      ],
      "metadata": {
        "id": "FO_nlm8TYQFS"
      }
    },
    {
      "cell_type": "code",
      "source": [
        "s1 = 'abcdefg'\n",
        "s2 = 'abdght'\n",
        "\n",
        "for char in s1:\n",
        "    if char in s2:\n",
        "        print(char, 'appears in both strings.')\n",
        "\n",
        "s1 = 'abcdefg'\n",
        "s2 ='abdght'\n",
        "\n",
        "for i in range(len(s1)):\n",
        "  if s1[i] in s2:\n",
        "    print(i)"
      ],
      "metadata": {
        "id": "hflvsfTWTi0E",
        "colab": {
          "base_uri": "https://localhost:8080/"
        },
        "outputId": "1a6fc86d-4a57-47a6-d1e5-81c0d52471c8"
      },
      "execution_count": null,
      "outputs": [
        {
          "output_type": "stream",
          "name": "stdout",
          "text": [
            "a appears in both strings.\n",
            "b appears in both strings.\n",
            "d appears in both strings.\n",
            "g appears in both strings.\n",
            "0\n",
            "1\n",
            "3\n",
            "6\n"
          ]
        }
      ]
    },
    {
      "cell_type": "markdown",
      "source": [
        "#List"
      ],
      "metadata": {
        "id": "TLgIc52IRPwa"
      }
    },
    {
      "cell_type": "code",
      "source": [
        "L = []\n",
        "number = int(input(\"Enter a value: \"))\n",
        "\n",
        "while number != 0:\n",
        "  L.append (number)\n",
        "  number= int(input(\"Enter a value: \"))\n",
        "\n",
        "print (L)"
      ],
      "metadata": {
        "id": "lIAhOHLNYrVf"
      },
      "execution_count": null,
      "outputs": []
    },
    {
      "cell_type": "markdown",
      "source": [
        "# Populating Dictionary - March 4"
      ],
      "metadata": {
        "id": "HKxDXjz8yhdk"
      }
    },
    {
      "cell_type": "code",
      "source": [
        "months = {}\n",
        "\n",
        "numbers = [1, 2, 3, 4, 5, 6, 7, 8, 9, 10, 11, 12]\n",
        "names = [\"Jan\", \"Feb\", \"Mar\", \"Apr\", \"May\", \"Jun\", \"Jul\", \"Aug\", \"Sep\", \"Oct\", \"Nov\", \"Dec\"]\n",
        "\n",
        "\n",
        "for i in range(0,12):\n",
        "  months[i+1] = names[i]\n",
        "print(months)\n"
      ],
      "metadata": {
        "colab": {
          "base_uri": "https://localhost:8080/"
        },
        "id": "8V7HmPDPxiuX",
        "outputId": "ae6b7ad8-1923-41aa-ca6b-714af98f5f60"
      },
      "execution_count": null,
      "outputs": [
        {
          "output_type": "stream",
          "name": "stdout",
          "text": [
            "{1: 'Jan', 2: 'Feb', 3: 'Mar', 4: 'Apr', 5: 'May', 6: 'Jun', 7: 'Jul', 8: 'Aug', 9: 'Sep', 10: 'Oct', 11: 'Nov', 12: 'Dec'}\n"
          ]
        }
      ]
    },
    {
      "cell_type": "code",
      "source": [
        "for i in numbers:\n",
        "  months[i] = names[i-1]\n",
        "\n",
        "print(months)"
      ],
      "metadata": {
        "colab": {
          "base_uri": "https://localhost:8080/"
        },
        "id": "9XBmGYx9zXWe",
        "outputId": "2ed6a994-3a18-42b0-8e29-4fd766e4b647"
      },
      "execution_count": null,
      "outputs": [
        {
          "output_type": "stream",
          "name": "stdout",
          "text": [
            "{1: 'Jan', 2: 'Feb', 3: 'Mar', 4: 'Apr', 5: 'May', 6: 'Jun', 7: 'Jul', 8: 'Aug', 9: 'Sep', 10: 'Oct', 11: 'Nov', 12: 'Dec'}\n"
          ]
        }
      ]
    },
    {
      "cell_type": "markdown",
      "source": [
        "# Factorial - April 2"
      ],
      "metadata": {
        "id": "985pe9cnHyv1"
      }
    },
    {
      "cell_type": "code",
      "source": [
        "def factR(n):\n",
        "  if n==0 or n==1:\n",
        "    return 1\n",
        "  else:\n",
        "    return n*factR(n-1) #inductive case should have a call to the function\n",
        "\n",
        "number = int(input(\"postive value\"))\n",
        "factR(number)"
      ],
      "metadata": {
        "id": "V9DISW-T1LOd"
      },
      "execution_count": null,
      "outputs": []
    },
    {
      "cell_type": "code",
      "source": [
        "#Without recursion\n",
        "def fact(n):\n",
        "  p = 1\n",
        "  while n >=1:\n",
        "    p=p*n\n",
        "    n=n-1\n",
        "  return p"
      ],
      "metadata": {
        "id": "hFH4gP30H8A4"
      },
      "execution_count": null,
      "outputs": []
    },
    {
      "cell_type": "markdown",
      "source": [
        "# Reversing Word - April 2"
      ],
      "metadata": {
        "id": "z-jHAnVfJ62Z"
      }
    },
    {
      "cell_type": "code",
      "source": [
        "def reverse(n):\n",
        "  return n[::-1]\n",
        "\n",
        "n = input()\n",
        "reverse(n)"
      ],
      "metadata": {
        "colab": {
          "base_uri": "https://localhost:8080/",
          "height": 53
        },
        "id": "zIHRqNUwHijz",
        "outputId": "1fecc829-7008-4222-fc53-09efadd16d6d"
      },
      "execution_count": null,
      "outputs": [
        {
          "name": "stdout",
          "output_type": "stream",
          "text": [
            "word\n"
          ]
        },
        {
          "output_type": "execute_result",
          "data": {
            "text/plain": [
              "'drow'"
            ],
            "application/vnd.google.colaboratory.intrinsic+json": {
              "type": "string"
            }
          },
          "metadata": {},
          "execution_count": 13
        }
      ]
    },
    {
      "cell_type": "code",
      "source": [
        "def revR(n):\n",
        "# Base case: if word is empty or a single character, return it as is\n",
        "  if len(n) <= 1:\n",
        "    return n\n",
        "# Recursive case: return last character + reverse of the substring excluding the last character\n",
        "  else:\n",
        "    return n[-1] + revR(n[:-1])\n",
        "\n",
        "n = input()\n",
        "revR(n)"
      ],
      "metadata": {
        "colab": {
          "base_uri": "https://localhost:8080/",
          "height": 53
        },
        "id": "8a5lBdiRIqXT",
        "outputId": "6e90de7a-57af-46a3-e684-379e04235092"
      },
      "execution_count": null,
      "outputs": [
        {
          "name": "stdout",
          "output_type": "stream",
          "text": [
            "different input\n"
          ]
        },
        {
          "output_type": "execute_result",
          "data": {
            "text/plain": [
              "'tupni tnereffid'"
            ],
            "application/vnd.google.colaboratory.intrinsic+json": {
              "type": "string"
            }
          },
          "metadata": {},
          "execution_count": 15
        }
      ]
    },
    {
      "cell_type": "markdown",
      "source": [
        "# Deposit with Interest Rates - April 19"
      ],
      "metadata": {
        "id": "u6onOEx1Y9aa"
      }
    },
    {
      "cell_type": "code",
      "execution_count": 1,
      "metadata": {
        "id": "uVSvF5OsAp57"
      },
      "outputs": [],
      "source": [
        "class Mortgage:\n",
        "  def __init__(self, amount, maturity, interest):\n",
        "    self.amount = amount\n",
        "    self.maturity = maturity\n",
        "    self.__interest = interest # two underscores makes attribute a private attribute\n",
        "\n",
        "  def __str__(self):\n",
        "    return f'Mortgage info:\\n Initial loan amount: ${self.amount}\\n Maturity term: {self.maturity} years\\n Interest rate: {self.__interest}%'\n",
        "\n",
        "  def get_interest(self):\n",
        "    return self.__interest\n",
        "\n",
        "  def set_interest(self, newInterest):\n",
        "    if newInterest >= 0:\n",
        "     self.__interest = newInterest\n",
        "    else:\n",
        "      print('Interest must be non-negative!')\n",
        "\n",
        "  def payment(self):\n",
        "    B = self.amount\n",
        "    n = self.maturity * 12\n",
        "    r = self.__interest / 100\n",
        "\n",
        "    return B * (r * (1+r)**n)/((1+r)**n-1)\n",
        "\n",
        "m = Mortgage(100000, 30, 6)\n"
      ]
    },
    {
      "cell_type": "code",
      "source": [
        "print(m)"
      ],
      "metadata": {
        "colab": {
          "base_uri": "https://localhost:8080/"
        },
        "id": "c9WeXBP5-2Xy",
        "outputId": "f4008e9e-673a-4246-b9fe-2cb0635f604e"
      },
      "execution_count": 2,
      "outputs": [
        {
          "output_type": "stream",
          "name": "stdout",
          "text": [
            "Mortgage info:\n",
            " Initial loan amount: $100000\n",
            " Maturity term: 30 years\n",
            " Interest rate: 6%\n"
          ]
        }
      ]
    },
    {
      "cell_type": "markdown",
      "source": [
        "# Calculating Distance b/t two 3D Points - April 24"
      ],
      "metadata": {
        "id": "w9gDCVppZa-g"
      }
    },
    {
      "cell_type": "code",
      "source": [
        "class Point:\n",
        "  def __init__(self, x, y):\n",
        "    self.x = x\n",
        "    self.y = y\n",
        "\n",
        "  def distance(self, other):\n",
        "    x_diff = (self.x - other.x)**2\n",
        "    y_diff = (self.y - other.y)**2\n",
        "    return(x_diff+y_diff)**0.5\n",
        "\n",
        "\n",
        "class Point3D(Point):\n",
        "  def __init__(self, x, y, z):\n",
        "    super().__init__(x,y)\n",
        "    self.z = z\n",
        "\n",
        "  def distance(self, other):\n",
        "    x_diff = (self.x - other.x)**2\n",
        "    y_diff = (self.y - other.y)**2\n",
        "    z_diff = (self.z - other.z)**2\n",
        "    return(x_diff+y_diff+z_diff)**.5\n",
        "\n",
        "\n",
        "p1 = Point3D(3,4,2)\n",
        "p2 = Point3D(6,8,2)\n",
        "\n",
        "print(p1.distance(p2))"
      ],
      "metadata": {
        "id": "MCogBUYxZimN"
      },
      "execution_count": null,
      "outputs": []
    },
    {
      "cell_type": "markdown",
      "source": [
        "#Assignment I - Quality Control"
      ],
      "metadata": {
        "id": "iS3PBNMUZsvY"
      }
    },
    {
      "cell_type": "code",
      "source": [
        "def getValues(n):\n",
        "  weights =[]\n",
        "  if n<3:\n",
        "    print('Not enough weights')\n",
        "    return None\n",
        "  else:\n",
        "    for i in range(n):\n",
        "      weights.append(float(input('Enter a weight: ')))\n",
        "    return weights[2:]\n",
        "def calcAverage(alist):\n",
        "  print(sum(alist)/len(alist))\n",
        "n_weights=int(input('Enter number of weights to be added to the list: '))\n",
        "calcAverage(getValues(n_weights))"
      ],
      "metadata": {
        "id": "6eEUqNnGZubV"
      },
      "execution_count": null,
      "outputs": []
    },
    {
      "cell_type": "markdown",
      "source": [
        "#Assignment II - Country Statistics Lookup-Multiple"
      ],
      "metadata": {
        "id": "0jVcjmU-Z3JX"
      }
    },
    {
      "cell_type": "code",
      "source": [
        "allData = { # dictionary of values for countries\n",
        "    'US': {'pop':325.7, 'gdp': 19.39, 'ccy': 'USD', 'fx':  1.0},\n",
        "    'CA': {'pop': 36.5, 'gdp':  1.65, 'ccy': 'CAD', 'fx':  1.35},\n",
        "    'MX': {'pop':129.2, 'gdp':  1.15, 'ccy': 'MXN', 'fx': 19.68}\n",
        "    }\n",
        "while True:\n",
        "  Code=input('Enter a country code (or type exit to stop): ')\n",
        "  if Code=='exit':\n",
        "    break\n",
        "  if Code not in allData.keys():\n",
        "    print(f'This code does not exist: {Code}')\n",
        "    continue\n",
        "  Data=input('Enter a statistic: ')\n",
        "  if Data not in allData[Code].keys():\n",
        "    print(f'Unknown statistic: {Data}')\n",
        "    continue\n",
        "  if Data=='pop':\n",
        "    print(f'Population: {allData[Code][Data]} million people.')\n",
        "  elif Data=='gdp':\n",
        "    print(f'GDP: {allData[Code][Data]} trillion USD.')\n",
        "  elif Data=='ccy':\n",
        "    print(f'Currency: {allData[Code][Data]}.')\n",
        "  else:\n",
        "    print(f'FX: {allData[Code][Data]}.')\n"
      ],
      "metadata": {
        "id": "u5daqpADZ9Qu"
      },
      "execution_count": null,
      "outputs": []
    },
    {
      "cell_type": "markdown",
      "source": [
        "#Assignment III - Parking Hours\n"
      ],
      "metadata": {
        "id": "mM2b12OeaYQG"
      }
    },
    {
      "cell_type": "code",
      "source": [
        "def getParkingHours():\n",
        "  x=float(input(\"Enter number of hours parked: \"))\n",
        "  return x\n",
        "x=getParkingHours()\n",
        "\n",
        "def calcParkingFee():\n",
        "  if x*2.5<6:\n",
        "    return 6\n",
        "  elif x*2.5>20:\n",
        "    return 20\n",
        "  else:\n",
        "    return x*2.5\n",
        "print(f'Parking fee: ${float(calcParkingFee())}')"
      ],
      "metadata": {
        "colab": {
          "base_uri": "https://localhost:8080/"
        },
        "id": "pPexFPkgabd_",
        "outputId": "015b1cc8-549f-46fb-a3cc-56846ff535fa"
      },
      "execution_count": 3,
      "outputs": [
        {
          "output_type": "stream",
          "name": "stdout",
          "text": [
            "Enter number of hours parked: 5\n",
            "Parking fee: $12.5\n"
          ]
        }
      ]
    }
  ]
}