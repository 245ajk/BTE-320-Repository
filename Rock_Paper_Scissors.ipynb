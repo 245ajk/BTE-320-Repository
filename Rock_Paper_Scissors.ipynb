{
  "nbformat": 4,
  "nbformat_minor": 0,
  "metadata": {
    "colab": {
      "provenance": [],
      "authorship_tag": "ABX9TyMqI4D0EUcYyT0IGWKw/tei",
      "include_colab_link": true
    },
    "kernelspec": {
      "name": "python3",
      "display_name": "Python 3"
    },
    "language_info": {
      "name": "python"
    }
  },
  "cells": [
    {
      "cell_type": "markdown",
      "metadata": {
        "id": "view-in-github",
        "colab_type": "text"
      },
      "source": [
        "<a href=\"https://colab.research.google.com/github/245ajk/BTE-320-Repository/blob/main/Rock_Paper_Scissors.ipynb\" target=\"_parent\"><img src=\"https://colab.research.google.com/assets/colab-badge.svg\" alt=\"Open In Colab\"/></a>"
      ]
    },
    {
      "cell_type": "code",
      "execution_count": null,
      "metadata": {
        "id": "XpCXeRBwEuML"
      },
      "outputs": [],
      "source": [
        "import random"
      ]
    },
    {
      "cell_type": "code",
      "source": [
        "pc_choice = random.choice(['Rock','Paper', 'Scissors'])\n",
        "print('Select Rock, Paper, or Scissors')\n",
        "user_choice = input()"
      ],
      "metadata": {
        "colab": {
          "base_uri": "https://localhost:8080/"
        },
        "id": "TYQPH62wFHPE",
        "outputId": "3bb609e4-c96f-4285-fb5f-44368054d5f9"
      },
      "execution_count": null,
      "outputs": [
        {
          "name": "stdout",
          "output_type": "stream",
          "text": [
            "Select Rock, Paper, or Scissors\n",
            "Paper\n"
          ]
        }
      ]
    },
    {
      "cell_type": "code",
      "source": [
        "if user_choice ==  pc_choice:\n",
        "  result = 'Tie'\n",
        "elif user_choice == 'Rock' and pc_choice == 'Scissors' or user_choice == 'Paper' and pc_choice == 'Rock' or user_choice == 'Scissors' and pc_choice == 'Paper':\n",
        "  result = 'Win'\n",
        "else:\n",
        "  result = 'Loss'\n",
        "\n",
        "print('Your', user_choice, \"vs Computer's\", pc_choice)\n",
        "print(result)\n",
        "\n",
        "if result == 'Tie':\n",
        "  pc_choice = random.choice(['Rock','Paper', 'Scissors'])\n",
        "  print('Select Rock, Paper, or Scissors')\n",
        "  user_choice = input()"
      ],
      "metadata": {
        "colab": {
          "base_uri": "https://localhost:8080/"
        },
        "id": "slTx76moGWYl",
        "outputId": "59ba8ba2-6f46-4902-9ceb-8c3530e57303"
      },
      "execution_count": null,
      "outputs": [
        {
          "output_type": "stream",
          "name": "stdout",
          "text": [
            "Your Rock vs Computer's Scissors\n",
            "Win\n"
          ]
        }
      ]
    },
    {
      "cell_type": "code",
      "source": [
        "while user_choice == pc_choice:\n",
        "  result == 'Tie'\n",
        "  pc_choice = random.choice(['Rock','Paper', 'Scissors'])\n",
        "  print('Your', user_choice, \"vs Computer's\", pc_choice)\n",
        "  print('Tie: Select Rock, Paper, or Scissors')\n",
        "  user_choice = input()\n",
        "\n",
        "if user_choice == 'Rock' and pc_choice == 'Scissors' or user_choice == 'Paper' and pc_choice == 'Rock' or user_choice == 'Scissors' and pc_choice == 'Paper':\n",
        "  result = 'Win'\n",
        "else:\n",
        "  result = 'Loss'\n",
        "\n",
        "print('Your', user_choice, \"vs Computer's\", pc_choice)\n",
        "print(result)"
      ],
      "metadata": {
        "colab": {
          "base_uri": "https://localhost:8080/"
        },
        "id": "cSKLRQWyMmrb",
        "outputId": "2ff79422-04c9-45a6-d557-95ae6369cd10"
      },
      "execution_count": null,
      "outputs": [
        {
          "output_type": "stream",
          "name": "stdout",
          "text": [
            "Your Paper vs Computer's Paper\n",
            "Tie: Select Rock, Paper, or Scissors\n",
            "Rock\n",
            "Your Rock vs Computer's Paper\n",
            "Loss\n"
          ]
        }
      ]
    },
    {
      "cell_type": "code",
      "source": [],
      "metadata": {
        "id": "WrL6SrEmr8xH"
      },
      "execution_count": null,
      "outputs": []
    }
  ]
}